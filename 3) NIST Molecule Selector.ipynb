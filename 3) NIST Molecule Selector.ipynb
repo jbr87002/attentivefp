{
 "cells": [
  {
   "cell_type": "code",
   "execution_count": 1,
   "metadata": {},
   "outputs": [],
   "source": [
    "from rdkit import Chem\n",
    "import numpy as np  \n",
    "from tqdm import tqdm\n",
    "import pandas as pd"
   ]
  },
  {
   "cell_type": "code",
   "execution_count": 2,
   "metadata": {},
   "outputs": [],
   "source": [
    "raw_data = pd.read_csv(\"NIST Gaseous IR Dataset.csv\")\n",
    "\n",
    "smiles = np.array(raw_data[\"SMILES\"])\n",
    "sequences = np.zeros((8361, 2232))\n",
    "for i in range(2232):\n",
    "  current_col = raw_data[str(i)]\n",
    "  for x in range(8361):\n",
    "    sequences[x][i] = current_col[x]"
   ]
  },
  {
   "cell_type": "code",
   "execution_count": 16,
   "metadata": {},
   "outputs": [
    {
     "data": {
      "text/plain": [
       "False"
      ]
     },
     "execution_count": 16,
     "metadata": {},
     "output_type": "execute_result"
    }
   ],
   "source": [
    "def not_organic(sm):\n",
    "    #is a CH Bond present?\n",
    "    molecule = Chem.MolFromSmiles(sm)\n",
    "    molecule = Chem.AddHs(molecule)\n",
    "    #iterate bonds\n",
    "    for atom in molecule.GetAtoms():\n",
    "        if atom.GetAtomicNum() == 6:\n",
    "            for neb in atom.GetNeighbors():\n",
    "                if(neb.GetAtomicNum() == 1):\n",
    "                    return False\n",
    "    return True\n",
    "    \n",
    "def too_big(sm):\n",
    "    molecule = Chem.MolFromSmiles(sm)\n",
    "    hydrogens = 0\n",
    "    for atom in molecule.GetAtoms():\n",
    "        hydrogens += atom.GetTotalNumHs()\n",
    "    #return(molecule.GetNumAtoms() + hydrogens)\n",
    "    return True if molecule.GetNumAtoms() >= 25 else False\n",
    "\n",
    "def has_charged_center(sm):\n",
    "    return True if \"+\" in sm or \"-\" in sm else False\n",
    "\n",
    "\n",
    "too_big(\"C\")"
   ]
  },
  {
   "cell_type": "code",
   "execution_count": 17,
   "metadata": {},
   "outputs": [
    {
     "name": "stderr",
     "output_type": "stream",
     "text": [
      "100%|██████████| 8362/8362 [00:04<00:00, 1788.65it/s]\n"
     ]
    }
   ],
   "source": [
    "good_indices = []\n",
    "num_charged, num_too_big, num_not_organic = 0, 0, 0\n",
    "for sm in tqdm(range(len(smiles))):\n",
    "\n",
    "    if not_organic(smiles[sm]) :\n",
    "        num_not_organic += 1\n",
    "        continue\n",
    "    elif too_big(smiles[sm]):\n",
    "        num_too_big += 1 \n",
    "        continue\n",
    "    elif has_charged_center(smiles[sm]):\n",
    "        num_charged += 1\n",
    "        continue\n",
    "    else:\n",
    "        good_indices.append(sm)"
   ]
  },
  {
   "cell_type": "code",
   "execution_count": 18,
   "metadata": {},
   "outputs": [
    {
     "name": "stdout",
     "output_type": "stream",
     "text": [
      "Started with: 8362 samples, ended with: 7506 samples\n",
      "96 weren't organic.\n",
      "120 were too large.\n",
      "640 had charged centers.\n"
     ]
    }
   ],
   "source": [
    "print(\"Started with:\", len(smiles), \"samples, ended with:\", len(good_indices), \"samples\")\n",
    "print(num_not_organic, \"weren't organic.\")\n",
    "print(num_too_big, \"were too large.\")\n",
    "print(num_charged, \"had charged centers.\")"
   ]
  },
  {
   "cell_type": "code",
   "execution_count": null,
   "metadata": {},
   "outputs": [],
   "source": [
    "import pickle\n",
    "data = {}\n",
    "data[\"smiles\"] = smiles[good_indices]\n",
    "data[\"sequences\"] = sequences[good_indices]\n",
    "file_to_store = open(\"Cleaner NIST Dataset.pickle\", \"wb+\") \n",
    "pickle.dump(data, file_to_store)"
   ]
  },
  {
   "cell_type": "code",
   "execution_count": null,
   "metadata": {},
   "outputs": [],
   "source": []
  }
 ],
 "metadata": {
  "kernelspec": {
   "display_name": "Python 3.7.12 ('chem_env')",
   "language": "python",
   "name": "python3"
  },
  "language_info": {
   "codemirror_mode": {
    "name": "ipython",
    "version": 3
   },
   "file_extension": ".py",
   "mimetype": "text/x-python",
   "name": "python",
   "nbconvert_exporter": "python",
   "pygments_lexer": "ipython3",
   "version": "3.7.12"
  },
  "metadata": {
   "interpreter": {
    "hash": "fb3e69b1849fbe3db38258675c90eca9b4601c3e4a5f4e71200d2f3e80de7811"
   }
  },
  "orig_nbformat": 2,
  "vscode": {
   "interpreter": {
    "hash": "6a85bb36b4d52f187ae5fc4e581c8672140292eb6cb1dd51f2266bc987f5b6ae"
   }
  }
 },
 "nbformat": 4,
 "nbformat_minor": 2
}
