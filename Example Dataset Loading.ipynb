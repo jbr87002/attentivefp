{
 "metadata": {
  "language_info": {
   "codemirror_mode": {
    "name": "ipython",
    "version": 3
   },
   "file_extension": ".py",
   "mimetype": "text/x-python",
   "name": "python",
   "nbconvert_exporter": "python",
   "pygments_lexer": "ipython3",
   "version": "3.7.9"
  },
  "orig_nbformat": 2,
  "kernelspec": {
   "name": "python379jvsc74a57bd0fb3e69b1849fbe3db38258675c90eca9b4601c3e4a5f4e71200d2f3e80de7811",
   "display_name": "Python 3.7.9 64-bit"
  },
  "metadata": {
   "interpreter": {
    "hash": "fb3e69b1849fbe3db38258675c90eca9b4601c3e4a5f4e71200d2f3e80de7811"
   }
  }
 },
 "nbformat": 4,
 "nbformat_minor": 2,
 "cells": [
  {
   "cell_type": "code",
   "execution_count": 4,
   "metadata": {},
   "outputs": [],
   "source": [
    "import pickle\n",
    "from random import shuffle, seed\n",
    "import numpy as np"
   ]
  },
  {
   "cell_type": "code",
   "execution_count": 2,
   "metadata": {},
   "outputs": [],
   "source": [
    "seed(13)\n",
    "\n",
    "file_to_read = open(\"Cleaner NIST Dataset.pickle\", \"rb\")\n",
    "d = pickle.load(file_to_read)\n",
    "smiles = d[\"smiles\"]\n",
    "sequences = d[\"sequences\"]\n",
    "#Zip each data sequence\n",
    "dataset = list(zip(smiles, sequences))\n",
    "shuffle(dataset)\n",
    "\n",
    "#Extract compounds that occur more than once so that repeats aren't distributed across folds\n",
    "single_occurence_molecules = [x for x in dataset if list(d[\"smiles\"]).count(x[0]) <= 1]\n",
    "multiple_occurence_molecules = [x for x in dataset if x[0] not in [h[0] for h in single_occurence_molecules]]\n",
    "\n",
    "#Create folds\n",
    "folds = {}\n",
    "fold_size = len(single_occurence_molecules) // 5\n",
    "for i in range(1, 6):\n",
    "    folds[i] = single_occurence_molecules[((i - 1) * fold_size):(i * fold_size)]\n",
    "#Add whatever wasn't added from single occurences to the end of multiple occurences\n",
    "multiple_occurence_molecules += single_occurence_molecules[(5 * fold_size):]\n",
    "mult_fold_size = len(multiple_occurence_molecules) // 5\n",
    "#Add all these molecules across folds such that all repeat occurences always occur within the same fold\n",
    "current_fold = 0\n",
    "while(len(multiple_occurence_molecules) > 0):\n",
    "    current_fold %= 5\n",
    "    current_fold += 1\n",
    "    current_molecule = multiple_occurence_molecules[0]\n",
    "    while current_molecule[0] in [h[0] for h in multiple_occurence_molecules]:\n",
    "        folds[current_fold].append(multiple_occurence_molecules.pop([h[0] for h in multiple_occurence_molecules].index(current_molecule[0])))"
   ]
  },
  {
   "cell_type": "code",
   "execution_count": 5,
   "metadata": {},
   "outputs": [
    {
     "output_type": "stream",
     "name": "stderr",
     "text": [
      "ipykernel_launcher:4: RuntimeWarning: divide by zero encountered in double_scalars\n"
     ]
    }
   ],
   "source": [
    "def normalize(s):\n",
    "    \"\"\"Normalize the input series from 0->1 and return it\"\"\"\n",
    "    maxval = max(s)\n",
    "    scale = 1 / maxval\n",
    "    if(maxval == 0):\n",
    "      scale = 0\n",
    "    return([j * scale for j in s])\n",
    "\n",
    "def normal_many(x):\n",
    "    return([floor_out(normalize(j)) for j in x])\n",
    "\n",
    "def floor_out(x):\n",
    "  return([j if j > 0.01 else 0 for j in x])\n",
    "\n",
    "dataset_splits = {1: {}, 2: {}, 3: {}, 4: {}, 5: {}}\n",
    "for i in range(1, 6):\n",
    "  #For each i-th split, the testing set will be the i-th fold\n",
    "  test = folds[i]\n",
    "  train = []\n",
    "  for x in range(1, 6):\n",
    "    if x != i:\n",
    "      train += folds[x]\n",
    "  \n",
    "  dataset_splits[i][\"test_smiles\"] = np.array([j[0] for j in test])\n",
    "  dataset_splits[i][\"test_y\"] = np.array(normal_many([j[1] for j in test]), dtype = float)\n",
    "  dataset_splits[i][\"train_smiles\"] = np.array([j[0] for j in train])\n",
    "  dataset_splits[i][\"train_y\"] = np.array(normal_many([j[1] for j in train]), dtype = float)"
   ]
  },
  {
   "cell_type": "code",
   "execution_count": null,
   "metadata": {},
   "outputs": [],
   "source": []
  }
 ]
}